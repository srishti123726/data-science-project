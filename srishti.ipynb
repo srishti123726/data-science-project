{
 "cells": [
  {
   "cell_type": "code",
   "execution_count": 3,
   "id": "bcdcd8fb-d9e7-4dbb-9909-295e7d304238",
   "metadata": {},
   "outputs": [
    {
     "name": "stdin",
     "output_type": "stream",
     "text": [
      "enter your marks 30\n"
     ]
    },
    {
     "name": "stdout",
     "output_type": "stream",
     "text": [
      "your grade is FAIL\n"
     ]
    }
   ],
   "source": [
    "marks=float(input('enter your marks'))\n",
    "if marks>=90:\n",
    "    grade='A'\n",
    "elif marks>=80:\n",
    "    grade='B'\n",
    "elif marks>=70:\n",
    "    grade='C'\n",
    "elif marks>=60:\n",
    "    grade='D'\n",
    "else:\n",
    "    grade='FAIL'\n",
    "    print('your grade is',grade)"
   ]
  },
  {
   "cell_type": "code",
   "execution_count": 10,
   "id": "5308a4ea-fba6-4c01-b325-a48b2a86d3d7",
   "metadata": {},
   "outputs": [
    {
     "name": "stdout",
     "output_type": "stream",
     "text": [
      "              age checker\n"
     ]
    },
    {
     "name": "stdin",
     "output_type": "stream",
     "text": [
      "enter your age 18\n"
     ]
    },
    {
     "name": "stdout",
     "output_type": "stream",
     "text": [
      "eligible for voting\n"
     ]
    }
   ],
   "source": [
    "print('              age checker'           )\n",
    "age=int(input('enter your age'))\n",
    "if age>=18:\n",
    "        print('eligible for voting')\n",
    "else:\n",
    " print('not eligible ')"
   ]
  },
  {
   "cell_type": "code",
   "execution_count": 16,
   "id": "6670ea9b-3876-41ae-9627-bc71747ad977",
   "metadata": {},
   "outputs": [
    {
     "name": "stdout",
     "output_type": "stream",
     "text": [
      "your options\n",
      "1.addition\n",
      "2. subtraction\n",
      "3.multiplication\n",
      "division\n",
      "enter your choice 1/2/3/4\n"
     ]
    },
    {
     "name": "stdin",
     "output_type": "stream",
     "text": [
      "enter your choice 1\n",
      "enter a number 4\n",
      "enter a numbber 5\n"
     ]
    },
    {
     "name": "stdout",
     "output_type": "stream",
     "text": [
      "the addition is 9\n"
     ]
    }
   ],
   "source": [
    "print('your options')\n",
    "print('1.addition')\n",
    "print('2. subtraction')\n",
    "print('3.multiplication')\n",
    "print('division')\n",
    "print('enter your choice 1/2/3/4')\n",
    "choice=int(input('enter your choice'))\n",
    "num1=int(input('enter a number'))\n",
    "num2=int(input('enter a numbber'))\n",
    "if choice==1:\n",
    "         print('the addition is',num1+num2)\n",
    "elif choice==2:\n",
    " print('the subtraction is',num1-num2)\n",
    "elif choice==3:\n",
    " print('the multiplication:',num1*num2)\n",
    "elif choice==4:\n",
    " print('the division:',num1/num2)\n",
    "else:\n",
    " print('invalid')\n",
    "                             "
   ]
  },
  {
   "cell_type": "code",
   "execution_count": 24,
   "id": "fc90f1d2-4e9b-4ef6-806a-a0d768e2f4cf",
   "metadata": {},
   "outputs": [
    {
     "name": "stdin",
     "output_type": "stream",
     "text": [
      "enter the age 18\n"
     ]
    },
    {
     "name": "stdout",
     "output_type": "stream",
     "text": [
      "ticket fare 5\n"
     ]
    }
   ],
   "source": [
    "age=int(input('enter the age'))\n",
    "fare=100\n",
    "if age<=5:\n",
    "            fare=0\n",
    "elif age>10:\n",
    "            fare=5\n",
    "elif  age>=20:\n",
    " fare =15\n",
    "elif age>=30:\n",
    " fare =20\n",
    "else:\n",
    " fare=0\n",
    "print('ticket fare',fare)"
   ]
  },
  {
   "cell_type": "code",
   "execution_count": 40,
   "id": "cafe8384-8b7e-4e38-8d53-c14e0d7e913e",
   "metadata": {},
   "outputs": [
    {
     "name": "stdin",
     "output_type": "stream",
     "text": [
      "enter book name 15\n"
     ]
    }
   ],
   "source": []
  },
  {
   "cell_type": "code",
   "execution_count": 39,
   "id": "3435dea5-14c0-490b-986c-f0c9236469b5",
   "metadata": {},
   "outputs": [
    {
     "name": "stdin",
     "output_type": "stream",
     "text": [
      "Enter the age of the book in years:  25\n"
     ]
    },
    {
     "name": "stdout",
     "output_type": "stream",
     "text": [
      "The charges are: 140\n"
     ]
    }
   ],
   "source": [
    "age = int(input('Enter the age of the book in years: '))\n",
    "charges = 200\n",
    "if age > 25:\n",
    "    charges = 190\n",
    "elif age > 20:\n",
    "    charges = 140\n",
    "elif age > 15:\n",
    "    charges = 90\n",
    "elif age > 5:\n",
    "    charges = 60\n",
    "else:\n",
    "    charges = 15\n",
    "\n",
    "print('The charges are:', charges)\n"
   ]
  },
  {
   "cell_type": "code",
   "execution_count": null,
   "id": "4ce99652-b711-4cb1-8473-087c9f52bf4a",
   "metadata": {},
   "outputs": [],
   "source": []
  }
 ],
 "metadata": {
  "kernelspec": {
   "display_name": "Python 3 (ipykernel)",
   "language": "python",
   "name": "python3"
  },
  "language_info": {
   "codemirror_mode": {
    "name": "ipython",
    "version": 3
   },
   "file_extension": ".py",
   "mimetype": "text/x-python",
   "name": "python",
   "nbconvert_exporter": "python",
   "pygments_lexer": "ipython3",
   "version": "3.12.4"
  }
 },
 "nbformat": 4,
 "nbformat_minor": 5
}
